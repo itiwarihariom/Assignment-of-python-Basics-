{
  "nbformat": 4,
  "nbformat_minor": 0,
  "metadata": {
    "colab": {
      "provenance": []
    },
    "kernelspec": {
      "name": "python3",
      "display_name": "Python 3"
    },
    "language_info": {
      "name": "python"
    }
  },
  "cells": [
    {
      "cell_type": "markdown",
      "source": [
        "# 1. What is Python, and why is it popular?\n",
        "- Python is a high-level, interpreted programming language known for its simplicity and readability. It is popular due to its easy syntax, large community support, and versatility in web development, data science, artificial intelligence, and automation.\n",
        "\n",
        "\n",
        "# 2. What is an interpreter in Python?\n",
        "- An interpreter is a program that executes Python code line by line, converting it into machine code at runtime.\n",
        "\n",
        "\n",
        "# 3. What are pre-defined keywords in Python?\n",
        "- Pre-defined keywords are reserved words in Python that have special meanings, such as if, else, for, while, import, and def.\n",
        "\n",
        "# 4. Can keywords be used as variable names?\n",
        "- No, keywords cannot be used as variable names because they have predefined meanings in Python.\n",
        "\n",
        "# 5. What is mutability in Python?\n",
        "- Mutability refers to whether an object's value can be changed after creation. If an object can be modified, it is mutable; otherwise, it is immutable.\n",
        "\n",
        "#6. Why are lists mutable, but tuples are immutable?\n",
        "- Lists are mutable, meaning elements can be changed or modified. Tuples, on the other hand, are immutable, meaning their elements cannot be altered after creation.\n",
        "\n",
        "#7. What is the difference between == and is operators in Python?\n",
        "- checks if two values are equal.\n",
        "- is checks if two variables point to the same memory location.\n",
        "\n",
        "#8. What are logical operators in Python?\n",
        " - Logical operators include:\n",
        " -- and (True if both conditions are true)\n",
        " -- or (True if at least one condition is true)\n",
        " -- not (Negates the condition)\n",
        "\n",
        "#9. What is type casting in Python?\n",
        "- Type casting converts one data type to another, like converting a string to an integer.\n",
        "\n",
        "#10. What is the difference between implicit and explicit type casting?\n",
        "\n",
        "  - Implicit casting: Python automatically converts types (e.g., int to float).\n",
        "  - Explicit casting: The programmer manually converts types using functions like int(), float(), or str().\n",
        "\n",
        "#11. What is the purpose of conditional statements in Python?\n",
        "- Conditional statements (if, elif, else) are used to execute different blocks of code based on conditions.\n",
        "\n",
        "#12. How does the elif statement work?\n",
        "- elif stands for \"else if\" and is used when multiple conditions need to be checked in a sequence.\n",
        "\n",
        "#13. What is the difference between for and while loops?\n",
        "- for loops iterate over a sequence (like a list or range).\n",
        "- while loops execute as long as a condition remains true.\n",
        "\n",
        "#14. Describe a scenario where a while loop is more suitable than a for loop.\n",
        "- A while loop is better when the number of iterations is unknown, such as waiting for user input to meet a condition."
      ],
      "metadata": {
        "id": "M2cUhjyS6K3E"
      }
    },
    {
      "cell_type": "markdown",
      "source": [
        "# Practical Questions"
      ],
      "metadata": {
        "id": "ELPaqMp_pqgk"
      }
    },
    {
      "cell_type": "markdown",
      "source": [
        "# 1. Python program to print \"Hello, World!\""
      ],
      "metadata": {
        "id": "ftLh9ey8gUKG"
      }
    },
    {
      "cell_type": "code",
      "source": [
        "\n",
        "print(\"Hello, World!\")\n"
      ],
      "metadata": {
        "colab": {
          "base_uri": "https://localhost:8080/"
        },
        "id": "jvGy5x1QBGyk",
        "outputId": "754cbdfe-5ede-4267-aa42-363599b382b1"
      },
      "execution_count": null,
      "outputs": [
        {
          "output_type": "stream",
          "name": "stdout",
          "text": [
            "Hello, World!\n"
          ]
        }
      ]
    },
    {
      "cell_type": "markdown",
      "source": [
        "# 2. Python program to display your name and age"
      ],
      "metadata": {
        "id": "uB3Y2yBtgXJh"
      }
    },
    {
      "cell_type": "code",
      "source": [
        "\n",
        "name = \"John\"\n",
        "age = 25\n",
        "print(\"Name:\", name)\n",
        "print(\"Age:\", age)"
      ],
      "metadata": {
        "colab": {
          "base_uri": "https://localhost:8080/"
        },
        "id": "7S38AMZjFLvJ",
        "outputId": "7636ebed-da50-42c1-de07-02a1b0aba859"
      },
      "execution_count": null,
      "outputs": [
        {
          "output_type": "stream",
          "name": "stdout",
          "text": [
            "Name: John\n",
            "Age: 25\n"
          ]
        }
      ]
    },
    {
      "cell_type": "markdown",
      "source": [
        "# 3. Code to print all pre-defined keywords in Python using the keyword library"
      ],
      "metadata": {
        "id": "51SKiMq9gZ-A"
      }
    },
    {
      "cell_type": "code",
      "source": [
        "\n",
        "import keyword\n",
        "print(keyword.kwlist)"
      ],
      "metadata": {
        "colab": {
          "base_uri": "https://localhost:8080/"
        },
        "id": "s2FbYUyqFe_U",
        "outputId": "8f2c6a0c-942a-4279-8399-b8ca9dafd962"
      },
      "execution_count": null,
      "outputs": [
        {
          "output_type": "stream",
          "name": "stdout",
          "text": [
            "['False', 'None', 'True', 'and', 'as', 'assert', 'async', 'await', 'break', 'class', 'continue', 'def', 'del', 'elif', 'else', 'except', 'finally', 'for', 'from', 'global', 'if', 'import', 'in', 'is', 'lambda', 'nonlocal', 'not', 'or', 'pass', 'raise', 'return', 'try', 'while', 'with', 'yield']\n"
          ]
        }
      ]
    },
    {
      "cell_type": "markdown",
      "source": [
        "# 4. Program to check if a given word is a Python keyword"
      ],
      "metadata": {
        "id": "BFkl5Quhge7s"
      }
    },
    {
      "cell_type": "code",
      "source": [
        "\n",
        "import keyword\n",
        "word = input(\"Enter a word: \")\n",
        "print(\"Is keyword?\", keyword.iskeyword(word))\n"
      ],
      "metadata": {
        "colab": {
          "base_uri": "https://localhost:8080/"
        },
        "id": "ZZ5X6WfvFhux",
        "outputId": "7eeafd5a-855b-4bbf-861f-edfe0266d9b4"
      },
      "execution_count": null,
      "outputs": [
        {
          "output_type": "stream",
          "name": "stdout",
          "text": [
            "Enter a word: no\n",
            "Is keyword? False\n"
          ]
        }
      ]
    },
    {
      "cell_type": "markdown",
      "source": [
        "# 5. List and tuple demonstration"
      ],
      "metadata": {
        "id": "gR1xvc9sgmVa"
      }
    },
    {
      "cell_type": "code",
      "source": [
        "\n",
        "my_list = [1, 2, 3]\n",
        "my_tuple = (1, 2, 3)\n",
        "\n",
        "my_list[0] = 10  # Allowed\n",
        "# my_tuple[0] = 10  # This will cause an error\n",
        "print(my_list, my_tuple)"
      ],
      "metadata": {
        "colab": {
          "base_uri": "https://localhost:8080/"
        },
        "id": "LlZY0C_VFnb-",
        "outputId": "404eb454-e136-49f0-9f64-80b0edd46ae5"
      },
      "execution_count": null,
      "outputs": [
        {
          "output_type": "stream",
          "name": "stdout",
          "text": [
            "[10, 2, 3] (1, 2, 3)\n"
          ]
        }
      ]
    },
    {
      "cell_type": "markdown",
      "source": [
        "# 6. Function to demonstrate mutable and immutable arguments"
      ],
      "metadata": {
        "id": "d9bsG7ZOiCGx"
      }
    },
    {
      "cell_type": "code",
      "source": [
        "\n",
        "\n",
        "def modify_data(lst, num):\n",
        "    lst.append(4)\n",
        "    num += 1\n",
        "\n",
        "my_list = [1, 2, 3]\n",
        "my_num = 5\n",
        "modify_data(my_list, my_num)\n",
        "print(my_list, my_num)"
      ],
      "metadata": {
        "colab": {
          "base_uri": "https://localhost:8080/"
        },
        "id": "upF0yfk0F0wM",
        "outputId": "7abff884-64c3-477f-d102-8a7970e038a4"
      },
      "execution_count": null,
      "outputs": [
        {
          "output_type": "stream",
          "name": "stdout",
          "text": [
            "[1, 2, 3, 4] 5\n"
          ]
        }
      ]
    },
    {
      "cell_type": "markdown",
      "source": [
        "# 8. Program demonstrating logical operators"
      ],
      "metadata": {
        "id": "mREvG8_zg02J"
      }
    },
    {
      "cell_type": "code",
      "source": [
        "\n",
        "a, b = True, False\n",
        "print(a and b)  # False\n",
        "print(a or b)   # True\n",
        "print(not a)    # False"
      ],
      "metadata": {
        "colab": {
          "base_uri": "https://localhost:8080/"
        },
        "id": "DYTPbvuJF33u",
        "outputId": "01717b59-61de-44b5-d9b5-b6e633814d14"
      },
      "execution_count": null,
      "outputs": [
        {
          "output_type": "stream",
          "name": "stdout",
          "text": [
            "False\n",
            "True\n",
            "False\n"
          ]
        }
      ]
    },
    {
      "cell_type": "markdown",
      "source": [
        " # 9. Python program to convert user input to different types"
      ],
      "metadata": {
        "id": "lHwthFlFg3Oo"
      }
    },
    {
      "cell_type": "code",
      "source": [
        "\n",
        "user_input = input(\"Enter a value: \")\n",
        "int_val = int(user_input)\n",
        "float_val = float(user_input)\n",
        "bool_val = bool(user_input)\n",
        "print(int_val, float_val, bool_val)"
      ],
      "metadata": {
        "colab": {
          "base_uri": "https://localhost:8080/"
        },
        "id": "9zHtY6S4F61g",
        "outputId": "2d8e1144-f372-4fa9-83a2-d7c5cf596bc5"
      },
      "execution_count": null,
      "outputs": [
        {
          "output_type": "stream",
          "name": "stdout",
          "text": [
            "Enter a value: -2\n",
            "-2 -2.0 True\n"
          ]
        }
      ]
    },
    {
      "cell_type": "markdown",
      "source": [
        "# 10. Code demonstrating type casting with list elements"
      ],
      "metadata": {
        "id": "_F9TE6Erg5kh"
      }
    },
    {
      "cell_type": "code",
      "source": [
        "\n",
        "str_list = [\"1\", \"2\", \"3\"]\n",
        "int_list = [int(i) for i in str_list]\n",
        "print(int_list)"
      ],
      "metadata": {
        "colab": {
          "base_uri": "https://localhost:8080/"
        },
        "id": "42I9MqiSF6bA",
        "outputId": "f86361b3-8e45-4461-8751-e38349a617bf"
      },
      "execution_count": null,
      "outputs": [
        {
          "output_type": "stream",
          "name": "stdout",
          "text": [
            "[1, 2, 3]\n"
          ]
        }
      ]
    },
    {
      "cell_type": "markdown",
      "source": [
        "# 11. Program to check if a number is positive, negative, or zero"
      ],
      "metadata": {
        "id": "3R83IQBahFoy"
      }
    },
    {
      "cell_type": "code",
      "source": [
        "\n",
        "\n",
        "num = int(input(\"Enter a number: \"))\n",
        "if num > 0:\n",
        "    print(\"Positive\")\n",
        "elif num < 0:\n",
        "    print(\"Negative\")\n",
        "else:\n",
        "    print(\"Zero\")"
      ],
      "metadata": {
        "colab": {
          "base_uri": "https://localhost:8080/"
        },
        "id": "MxEHu_X1GSgY",
        "outputId": "1bdde878-588b-447c-8318-8c87f732a041"
      },
      "execution_count": null,
      "outputs": [
        {
          "output_type": "stream",
          "name": "stdout",
          "text": [
            "Enter a number: 8\n",
            "Positive\n"
          ]
        }
      ]
    },
    {
      "cell_type": "markdown",
      "source": [
        "# 12. For loop to print numbers from 1 to 10"
      ],
      "metadata": {
        "id": "4zHtVNHZhIcL"
      }
    },
    {
      "cell_type": "code",
      "source": [
        "\n",
        "\n",
        "for i in range(1, 11):\n",
        "    print(i)"
      ],
      "metadata": {
        "colab": {
          "base_uri": "https://localhost:8080/"
        },
        "id": "mLuKVo1AGXLK",
        "outputId": "bc30e28a-73ef-4a0e-c39e-8e577d39c8ad"
      },
      "execution_count": null,
      "outputs": [
        {
          "output_type": "stream",
          "name": "stdout",
          "text": [
            "1\n",
            "2\n",
            "3\n",
            "4\n",
            "5\n",
            "6\n",
            "7\n",
            "8\n",
            "9\n",
            "10\n"
          ]
        }
      ]
    },
    {
      "cell_type": "markdown",
      "source": [
        "# 13. Python program to find the sum of all even numbers between 1 and 50"
      ],
      "metadata": {
        "id": "LuGAzaDhhKw5"
      }
    },
    {
      "cell_type": "code",
      "source": [
        "\n",
        "even_sum = sum(i for i in range(1, 51) if i % 2 == 0)\n",
        "print(even_sum)"
      ],
      "metadata": {
        "colab": {
          "base_uri": "https://localhost:8080/"
        },
        "id": "ahGUBbshGaA5",
        "outputId": "456be61e-564e-415e-fc5d-829db835cda0"
      },
      "execution_count": null,
      "outputs": [
        {
          "output_type": "stream",
          "name": "stdout",
          "text": [
            "650\n"
          ]
        }
      ]
    },
    {
      "cell_type": "markdown",
      "source": [
        "# 14. Program to reverse a string using a while loop"
      ],
      "metadata": {
        "id": "30UL8ap7hW0f"
      }
    },
    {
      "cell_type": "code",
      "source": [
        "\n",
        "text = input(\"Enter a string: \")\n",
        "reversed_text = \"\"\n",
        "i = len(text) - 1\n",
        "while i >= 0:\n",
        "    reversed_text += text[i]\n",
        "    i -= 1\n",
        "print(reversed_text)"
      ],
      "metadata": {
        "colab": {
          "base_uri": "https://localhost:8080/"
        },
        "id": "LjrXSgH6Gw14",
        "outputId": "b32feb4f-63d1-4cba-d174-9ab5b2a20305"
      },
      "execution_count": null,
      "outputs": [
        {
          "output_type": "stream",
          "name": "stdout",
          "text": [
            "Enter a string: hariom\n",
            "moirah\n"
          ]
        }
      ]
    },
    {
      "cell_type": "markdown",
      "source": [
        "# 15. Python program to calculate the factorial of a number using a while loop"
      ],
      "metadata": {
        "id": "X4kA2m88haFW"
      }
    },
    {
      "cell_type": "code",
      "source": [
        "\n",
        "num = int(input(\"Enter a number: \"))\n",
        "fact = 1\n",
        "while num > 0:\n",
        "    fact *= num\n",
        "    num -= 1\n",
        "print(\"Factorial:\", fact)"
      ],
      "metadata": {
        "colab": {
          "base_uri": "https://localhost:8080/"
        },
        "id": "DcWTwmO6G2Sw",
        "outputId": "c6202062-20a5-4601-ef0f-7ca71de7566b"
      },
      "execution_count": null,
      "outputs": [
        {
          "output_type": "stream",
          "name": "stdout",
          "text": [
            "Enter a number: 10\n",
            "Factorial: 3628800\n"
          ]
        }
      ]
    }
  ]
}